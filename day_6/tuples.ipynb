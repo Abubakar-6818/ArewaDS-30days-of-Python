{
 "cells": [
  {
   "cell_type": "code",
   "execution_count": 1,
   "metadata": {},
   "outputs": [],
   "source": [
    "#Creating a tuple \n",
    "empty_tuple = tuple()"
   ]
  },
  {
   "cell_type": "code",
   "execution_count": 2,
   "metadata": {},
   "outputs": [
    {
     "data": {
      "text/plain": [
       "('Faisal', 'Salim', 'Usman', 'Aisha', 'Nuwaira', 'Khaulat')"
      ]
     },
     "execution_count": 2,
     "metadata": {},
     "output_type": "execute_result"
    }
   ],
   "source": [
    "#A tuple containing names of my brothers and sisters\n",
    "brothers = (\"Faisal\",\"Salim\",\"Usman\")\n",
    "sisters = (\"Aisha\", \"Nuwaira\", \"Khaulat\")\n",
    "\n",
    "siblings = brothers + sisters\n",
    "siblings"
   ]
  },
  {
   "cell_type": "code",
   "execution_count": 3,
   "metadata": {},
   "outputs": [
    {
     "name": "stdout",
     "output_type": "stream",
     "text": [
      "I have 6 siblings\n"
     ]
    }
   ],
   "source": [
    "#Pringting numbers of my siblings\n",
    "print(\"I have {} siblings\".format(len(siblings)))"
   ]
  },
  {
   "cell_type": "code",
   "execution_count": 6,
   "metadata": {},
   "outputs": [
    {
     "name": "stdout",
     "output_type": "stream",
     "text": [
      "My family members are : ('Faisal', 'Salim', 'Usman', 'Aisha', 'Nuwaira', 'Khaulat', 'Abubakar', 'Aisha')\n"
     ]
    }
   ],
   "source": [
    "#Family members\n",
    "parents =   ('Abubakar',\"Aisha\")\n",
    "\n",
    "\n",
    "family_members = siblings + parents\n",
    "\n",
    "print(\"My family members are :\", family_members)"
   ]
  },
  {
   "cell_type": "code",
   "execution_count": 8,
   "metadata": {},
   "outputs": [],
   "source": [
    "#unpacking siblings and parents\n",
    "*siblings , parent = family_members"
   ]
  },
  {
   "cell_type": "code",
   "execution_count": 7,
   "metadata": {},
   "outputs": [
    {
     "data": {
      "text/plain": [
       "('carot',\n",
       " 'water leaf',\n",
       " 'cucumber',\n",
       " 'orange',\n",
       " 'banana',\n",
       " 'mango',\n",
       " 'Cow',\n",
       " 'Sheep',\n",
       " 'Chicken')"
      ]
     },
     "execution_count": 7,
     "metadata": {},
     "output_type": "execute_result"
    }
   ],
   "source": [
    "vagetables = (\"carot\", 'water leaf', 'cucumber')\n",
    "fruits = ('orange', 'banana','mango')\n",
    "animals = ('Cow', 'Sheep', 'Chicken')\n",
    "\n",
    "#food_stuff_tp\n",
    "food_stuff_tp = vagetables + fruits + animals\n",
    "food_stuff_tp"
   ]
  },
  {
   "cell_type": "code",
   "execution_count": 9,
   "metadata": {},
   "outputs": [
    {
     "data": {
      "text/plain": [
       "['carot',\n",
       " 'water leaf',\n",
       " 'cucumber',\n",
       " 'orange',\n",
       " 'banana',\n",
       " 'mango',\n",
       " 'Cow',\n",
       " 'Sheep',\n",
       " 'Chicken']"
      ]
     },
     "execution_count": 9,
     "metadata": {},
     "output_type": "execute_result"
    }
   ],
   "source": [
    "#Food list\n",
    "food_stuff_list = list(food_stuff_tp)\n",
    "food_stuff_list"
   ]
  },
  {
   "cell_type": "code",
   "execution_count": 12,
   "metadata": {},
   "outputs": [
    {
     "name": "stdout",
     "output_type": "stream",
     "text": [
      "First three ['carot', 'water leaf']\n",
      "Last three ['Cow', 'Sheep', 'Chicken']\n"
     ]
    }
   ],
   "source": [
    "#slicing first and last three of the food list\n",
    "print(\"First three\", food_stuff_list[:2])\n",
    "print(\"Last three\", food_stuff_list[-3:])"
   ]
  },
  {
   "cell_type": "code",
   "execution_count": 14,
   "metadata": {},
   "outputs": [
    {
     "name": "stdout",
     "output_type": "stream",
     "text": [
      "Middle stuff ['banana']\n"
     ]
    }
   ],
   "source": [
    "#Middle Stuff\n",
    "print(\"Middle stuff\", food_stuff_list[4:5])"
   ]
  },
  {
   "cell_type": "code",
   "execution_count": 15,
   "metadata": {},
   "outputs": [],
   "source": [
    "#Deleting tuple completely \n",
    "del food_stuff_tp\n"
   ]
  },
  {
   "cell_type": "code",
   "execution_count": 18,
   "metadata": {},
   "outputs": [
    {
     "name": "stdout",
     "output_type": "stream",
     "text": [
      "False\n",
      "True\n"
     ]
    }
   ],
   "source": [
    "#Checking if an item still exist in the tuple\n",
    "nordic_countries = ('Denmark', 'Finland','Iceland', 'Norway', 'Sweden')\n",
    "\n",
    "print('Estonia' in nordic_countries)\n",
    "print('Iceland' in nordic_countries)"
   ]
  },
  {
   "cell_type": "code",
   "execution_count": null,
   "metadata": {},
   "outputs": [],
   "source": []
  }
 ],
 "metadata": {
  "kernelspec": {
   "display_name": "Python 3",
   "language": "python",
   "name": "python3"
  },
  "language_info": {
   "codemirror_mode": {
    "name": "ipython",
    "version": 3
   },
   "file_extension": ".py",
   "mimetype": "text/x-python",
   "name": "python",
   "nbconvert_exporter": "python",
   "pygments_lexer": "ipython3",
   "version": "3.9.12"
  }
 },
 "nbformat": 4,
 "nbformat_minor": 2
}
