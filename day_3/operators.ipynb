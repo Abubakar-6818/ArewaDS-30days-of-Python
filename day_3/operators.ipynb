{
 "cells": [
  {
   "cell_type": "code",
   "execution_count": 4,
   "metadata": {},
   "outputs": [
    {
     "name": "stdout",
     "output_type": "stream",
     "text": [
      "The area of the triangle is 100.0\n"
     ]
    }
   ],
   "source": [
    "age, height, complex_numbers = int(21), float(13.4), complex(3+4j)\n",
    "\n",
    "base = float(input(\"Enter base :\"))\n",
    "height = float(input(\"Enter height: \"))\n",
    "area = 0.5 * base * height\n",
    "print(\"The area of the triangle is\", area)"
   ]
  },
  {
   "cell_type": "code",
   "execution_count": 6,
   "metadata": {},
   "outputs": [
    {
     "name": "stdout",
     "output_type": "stream",
     "text": [
      "The perimeter of the triangle is : 12\n"
     ]
    }
   ],
   "source": [
    "a = int(input('Enter Side a'))\n",
    "b = int(input('Enter Side b'))\n",
    "c =int(input('Enter Side c'))\n",
    "perimeter = a + b + c\n",
    "print('The perimeter of the triangle is :', perimeter)"
   ]
  },
  {
   "cell_type": "code",
   "execution_count": 7,
   "metadata": {},
   "outputs": [],
   "source": [
    "length, width = float(input('Enter length :')), float(input('Enter width :'))\n",
    "area ,perimeter = length * width, 2 * (length + width)\n",
    "\n",
    "radius = float(input(\"Enter raadius :\"))\n",
    "pi = float(3.14)\n",
    "area = pi * radius * radius\n",
    "c = 2 * pi * radius"
   ]
  },
  {
   "cell_type": "code",
   "execution_count": 8,
   "metadata": {},
   "outputs": [
    {
     "name": "stdout",
     "output_type": "stream",
     "text": [
      "Slope: 2, X-intercept: 1, Y-intercept: -2\n",
      "Slope: 2.0\n",
      "Euclidean distance: 8.94427190999916\n"
     ]
    }
   ],
   "source": [
    "print(f\"Slope: 2, X-intercept: 1, Y-intercept: -2\")\n",
    "# Calculate the slope\n",
    "x1 = 2\n",
    "y1 = 2\n",
    "x2 = 6\n",
    "y2 = 10\n",
    "slope = (y2 - y1) / (x2 - x1)\n",
    "print(\"Slope:\", slope)\n",
    "\n",
    "# Calculate the Euclidean distance\n",
    "import math\n",
    "distance = math.sqrt(((x2 - x1) ** 2) + ((y2 - y1) ** 2))\n",
    "print(\"Euclidean distance:\", distance)\n"
   ]
  },
  {
   "cell_type": "code",
   "execution_count": 9,
   "metadata": {},
   "outputs": [
    {
     "name": "stdout",
     "output_type": "stream",
     "text": [
      "The slopes of the lines in tasks 8 and 9 are equal.\n"
     ]
    }
   ],
   "source": [
    "# Calculate the slope for task 8 (y = 2x - 2)\n",
    "slope_task_8 = 2\n",
    "\n",
    "# Calculate the slope for task 9 (y = 2x + 1)\n",
    "slope_task_9 = 2\n",
    "\n",
    "# Compare the slopes\n",
    "if slope_task_8 == slope_task_9:\n",
    "    print(\"The slopes of the lines in tasks 8 and 9 are equal.\")\n",
    "else:\n",
    "    print(\"The slopes of the lines in tasks 8 and 9 are not equal.\")\n"
   ]
  },
  {
   "cell_type": "code",
   "execution_count": 13,
   "metadata": {},
   "outputs": [
    {
     "name": "stdout",
     "output_type": "stream",
     "text": [
      "0\n",
      "False\n",
      "True\n",
      "True\n",
      "False\n",
      "True\n",
      "False\n",
      "False\n"
     ]
    },
    {
     "ename": "ValueError",
     "evalue": "invalid literal for int() with base 10: '9.8'",
     "output_type": "error",
     "traceback": [
      "\u001b[1;31m---------------------------------------------------------------------------\u001b[0m",
      "\u001b[1;31mValueError\u001b[0m                                Traceback (most recent call last)",
      "\u001b[1;32mc:\\Users\\Abubakar Alamin\\projects\\ArewaDS-Machine-Learning\\Stage-1-Getting-Started\\03-30-Days-of-Python\\ArewaDS-30days-of-Pythonon\\day_3\\operators.ipynb Cell 6\u001b[0m line \u001b[0;36m<cell line: 25>\u001b[1;34m()\u001b[0m\n\u001b[0;32m     <a href='vscode-notebook-cell:/c%3A/Users/Abubakar%20Alamin/projects/ArewaDS-Machine-Learning/Stage-1-Getting-Started/03-30-Days-of-Python/ArewaDS-30days-of-Pythonon/day_3/operators.ipynb#W5sZmlsZQ%3D%3D?line=22'>23</a>\u001b[0m \u001b[39mprint\u001b[39m( flr \u001b[39m==\u001b[39m \u001b[39m2.7\u001b[39m)\n\u001b[0;32m     <a href='vscode-notebook-cell:/c%3A/Users/Abubakar%20Alamin/projects/ArewaDS-Machine-Learning/Stage-1-Getting-Started/03-30-Days-of-Python/ArewaDS-30days-of-Pythonon/day_3/operators.ipynb#W5sZmlsZQ%3D%3D?line=23'>24</a>\u001b[0m \u001b[39mprint\u001b[39m(\u001b[39mtype\u001b[39m(\u001b[39m10\u001b[39m) \u001b[39m==\u001b[39m \u001b[39m10\u001b[39m)\n\u001b[1;32m---> <a href='vscode-notebook-cell:/c%3A/Users/Abubakar%20Alamin/projects/ArewaDS-Machine-Learning/Stage-1-Getting-Started/03-30-Days-of-Python/ArewaDS-30days-of-Pythonon/day_3/operators.ipynb#W5sZmlsZQ%3D%3D?line=24'>25</a>\u001b[0m \u001b[39mprint\u001b[39m(\u001b[39mint\u001b[39;49m(\u001b[39m'\u001b[39;49m\u001b[39m9.8\u001b[39;49m\u001b[39m'\u001b[39;49m) \u001b[39m==\u001b[39m \u001b[39m10\u001b[39m)\n",
      "\u001b[1;31mValueError\u001b[0m: invalid literal for int() with base 10: '9.8'"
     ]
    }
   ],
   "source": [
    "x = -3\n",
    "y = x**2 + 6 * (x) + 9 \n",
    "print(y)\n",
    "\n",
    "print(len('python') > len('dragon'))\n",
    "\n",
    "print('on' in 'python' and 'on' in 'dragon')\n",
    "sentence  = 'i hope this course is not full of jargon'\n",
    "\n",
    "print('jargon' in sentence)\n",
    "\n",
    "print('no' in 'python' and 'no' in 'dragon')\n",
    "\n",
    "length_of_python = len('python')\n",
    "length_of_python_to_float = float(length_of_python)\n",
    "length_of_python_to_string = str(length_of_python)\n",
    "\n",
    "num = 2\n",
    "even_num = num%2 == 0\n",
    "print(even_num)\n",
    "\n",
    "flr = 7 // 3\n",
    "print( flr == 2.7)\n",
    "print(type(10) == 10)\n",
    "print(int('9.8') == 10)"
   ]
  },
  {
   "cell_type": "code",
   "execution_count": 20,
   "metadata": {},
   "outputs": [
    {
     "name": "stdout",
     "output_type": "stream",
     "text": [
      "Your weekly earning is : 1120\n"
     ]
    }
   ],
   "source": [
    "hr, rate = int(input('Enter hours :')), int(input('Enter rate per hours :' ))\n",
    "                                                  \n",
    "                                                  \n",
    "print('Your weekly earning is :',( hr * rate))"
   ]
  },
  {
   "cell_type": "code",
   "execution_count": 21,
   "metadata": {},
   "outputs": [
    {
     "name": "stdout",
     "output_type": "stream",
     "text": [
      "You have lived for  3153600000 seconds\n"
     ]
    }
   ],
   "source": [
    "years = int(input(\"Enter number of years :\"))\n",
    "total = years * 60 * 60 * 365 * 24\n",
    "print('You have lived for ', total ,'seconds')"
   ]
  },
  {
   "cell_type": "code",
   "execution_count": 22,
   "metadata": {},
   "outputs": [
    {
     "name": "stdout",
     "output_type": "stream",
     "text": [
      "   | 1 | 2 | 3 | 4 | 5\n",
      "---+---+---+---+---+\n",
      " 1 | 1 | 1 | 1 | 1 | 1\n",
      "---+---+---+---+---+\n",
      " 2 | 1 | 2 | 4 | 8 | 16\n",
      "---+---+---+---+---+\n",
      " 3 | 1 | 3 | 9 | 27 | 81\n",
      "---+---+---+---+---+\n",
      " 4 | 1 | 4 | 16 | 64 | 256\n",
      "---+---+---+---+---+\n",
      " 5 | 1 | 5 | 25 | 125 | 625\n",
      "---+---+---+---+---+\n"
     ]
    }
   ],
   "source": [
    "print(\"   | 1 | 2 | 3 | 4 | 5\")\n",
    "print(\"---+---+---+---+---+\")\n",
    "print(\" 1 | 1 | 1 | 1 | 1 | 1\")\n",
    "print(\"---+---+---+---+---+\")\n",
    "print(\" 2 | 1 | 2 | 4 | 8 | 16\")\n",
    "print(\"---+---+---+---+---+\")\n",
    "print(\" 3 | 1 | 3 | 9 | 27 | 81\")\n",
    "print(\"---+---+---+---+---+\")\n",
    "print(\" 4 | 1 | 4 | 16 | 64 | 256\")\n",
    "print(\"---+---+---+---+---+\")\n",
    "print(\" 5 | 1 | 5 | 25 | 125 | 625\")\n",
    "print(\"---+---+---+---+---+\")\n"
   ]
  }
 ],
 "metadata": {
  "kernelspec": {
   "display_name": "base",
   "language": "python",
   "name": "python3"
  },
  "language_info": {
   "codemirror_mode": {
    "name": "ipython",
    "version": 3
   },
   "file_extension": ".py",
   "mimetype": "text/x-python",
   "name": "python",
   "nbconvert_exporter": "python",
   "pygments_lexer": "ipython3",
   "version": "3.9.12"
  }
 },
 "nbformat": 4,
 "nbformat_minor": 2
}
