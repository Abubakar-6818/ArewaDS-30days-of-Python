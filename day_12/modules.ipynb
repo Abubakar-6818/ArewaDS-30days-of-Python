{
 "cells": [
  {
   "cell_type": "code",
   "execution_count": 1,
   "metadata": {},
   "outputs": [
    {
     "name": "stdout",
     "output_type": "stream",
     "text": [
      "Abubakar Al-amin\n"
     ]
    }
   ],
   "source": [
    "import mymodule\n",
    "\n",
    "print(mymodule.generate_full_name(\"Abubakar\", 'Al-amin'))"
   ]
  },
  {
   "cell_type": "markdown",
   "metadata": {},
   "source": [
    "Exercises: Level 1"
   ]
  },
  {
   "cell_type": "markdown",
   "metadata": {},
   "source": [
    "Writ a function which generates a six digit/character random_user_id.\n",
    "\n",
    "\n",
    "\n",
    "  print(random_user_id());\n",
    "  '1ee33d'"
   ]
  },
  {
   "cell_type": "code",
   "execution_count": 2,
   "metadata": {},
   "outputs": [
    {
     "name": "stdout",
     "output_type": "stream",
     "text": [
      "Your user ID is:2K2cTs \n"
     ]
    }
   ],
   "source": [
    "def random_user_id():\n",
    "    import string\n",
    "    import random\n",
    "    \n",
    "    \n",
    "    characters = string.digits + string.ascii_letters\n",
    "    \n",
    "    user_id = ''.join(random.choices(characters, k= 6))\n",
    "    \n",
    "    return user_id\n",
    "\n",
    "\n",
    "print('Your user ID is:{} '.format(random_user_id()))"
   ]
  },
  {
   "cell_type": "markdown",
   "metadata": {},
   "source": [
    "Modify the previous task. Declare a function named user_id_gen_by_user.\n",
    "It doesn’t take any parameters but it takes two inputs using input(). \n",
    "One of the inputs is the number of characters and the second input is the number of IDs which are supposed to be generated."
   ]
  },
  {
   "cell_type": "code",
   "execution_count": 9,
   "metadata": {},
   "outputs": [
    {
     "name": "stdout",
     "output_type": "stream",
     "text": [
      "Your user ID is:  ['R2CVP', 'W8zJd', '7MDzV', 'iXAhu', 'tQZv6', 'pQZw1', 'SUO8c', 'lU0y7']\n"
     ]
    }
   ],
   "source": [
    "def random_user_id_by_user():\n",
    "    import string\n",
    "    import random\n",
    "    \n",
    "    num_of_char = int(input(\"Enter number of user ID Charaters: \"))\n",
    "    num_of_id = int(input(\"Enter number of user IDs: \"))\n",
    "    \n",
    "    user_ids = []\n",
    "    for i in range(num_of_id):\n",
    "        \n",
    "        characters = string.digits + string.ascii_letters\n",
    "    \n",
    "        user_id = ''.join(random.choices(characters, k= num_of_char))\n",
    "        \n",
    "        user_ids.append(user_id)\n",
    "    \n",
    "    return user_ids\n",
    "\n",
    "get_user_id = random_user_id_by_user()\n",
    "print('Your user ID is: ', get_user_id)"
   ]
  },
  {
   "cell_type": "markdown",
   "metadata": {},
   "source": [
    "Write a function named rgb_color_gen. It will generate rgb colors (3 values ranging from 0 to 255 each)."
   ]
  },
  {
   "cell_type": "code",
   "execution_count": 10,
   "metadata": {},
   "outputs": [
    {
     "name": "stdout",
     "output_type": "stream",
     "text": [
      "Generated RGB rgb 155, 224, 177\n"
     ]
    }
   ],
   "source": [
    "import random\n",
    "def rgb_color_gen():\n",
    "    red = random.randint(0, 255)\n",
    "    green = random.randint(0, 255)\n",
    "    blue = random.randint(0, 255)\n",
    "    \n",
    "    return (\"rgb {}, {}, {}\".format(red, green, blue))\n",
    "\n",
    "print(\"Generated RGB\", rgb_color_gen())"
   ]
  },
  {
   "cell_type": "markdown",
   "metadata": {},
   "source": [
    "Exercises: Level 2"
   ]
  },
  {
   "cell_type": "markdown",
   "metadata": {},
   "source": [
    "Write a function list_of_hexa_colors which returns any number of hexadecimal colors in an array (six hexadecimal numbers written after #. Hexadecimal numeral system is made out of 16 symbols, 0-9 and first 6 letters of the alphabet, a-f. Check the task 6 for output examples)."
   ]
  },
  {
   "cell_type": "code",
   "execution_count": 11,
   "metadata": {},
   "outputs": [
    {
     "name": "stdout",
     "output_type": "stream",
     "text": [
      "Generated hexadecimal colors:  ['#P', '#D', '#w', '#l', '#d']\n"
     ]
    }
   ],
   "source": [
    "import string\n",
    "def list_of_hexa_colors(num_colors):\n",
    "    \n",
    "    hex_colors = []\n",
    "    \n",
    "    for i in range(num_colors):\n",
    "        \n",
    "        for i in range(6):\n",
    "            color_code = ''.join(random.choices(string.digits + string.ascii_letters))\n",
    "            \n",
    "        hex_colors.append('#{}'.format(color_code))\n",
    "    \n",
    "    return hex_colors\n",
    "\n",
    "\n",
    "num_colors = 5\n",
    "\n",
    "gen_hex_color = list_of_hexa_colors(num_colors)\n",
    "print(\"Generated hexadecimal colors: \", gen_hex_color)"
   ]
  },
  {
   "cell_type": "markdown",
   "metadata": {},
   "source": [
    "Write a function list_of_rgb_colors which returns any number of RGB colors in an array."
   ]
  },
  {
   "cell_type": "code",
   "execution_count": 16,
   "metadata": {},
   "outputs": [
    {
     "name": "stdout",
     "output_type": "stream",
     "text": [
      "Generated list of rgb colors:  [[157, 205, 72], [83, 58, 28], [213, 216, 178], [133, 218, 18], [169, 190, 132], [185, 177, 92], [234, 23, 2]]\n"
     ]
    }
   ],
   "source": [
    "def rgb_color_gen_list(num_rgb):\n",
    "    \n",
    "    rgb = []\n",
    "    \n",
    "    for i in range(num_rgb):\n",
    "    \n",
    "        red = random.randint(0, 255)\n",
    "        green = random.randint(0, 255)\n",
    "        blue = random.randint(0, 255)\n",
    "        \n",
    "        rgb.append([red,green,blue])\n",
    "    \n",
    "    return rgb\n",
    "\n",
    "num_rgb = 7\n",
    "gen_rgb_list = rgb_color_gen_list(num_rgb)\n",
    "print(\"Generated list of rgb colors: \", gen_rgb_list)\n"
   ]
  },
  {
   "cell_type": "markdown",
   "metadata": {},
   "source": [
    "Write a function generate_colors which can generate any number of hexa or rgb colors."
   ]
  },
  {
   "cell_type": "code",
   "execution_count": 28,
   "metadata": {},
   "outputs": [
    {
     "data": {
      "text/plain": [
       "['#1', '#W', '#i']"
      ]
     },
     "execution_count": 28,
     "metadata": {},
     "output_type": "execute_result"
    }
   ],
   "source": [
    "def generate_colors(color_type, num_colors):\n",
    "    \n",
    "    rgb = []\n",
    "    hexa_colors = []\n",
    "    \n",
    "    if color_type == 'hexa':\n",
    "        for i in range(num_colors):\n",
    "            color_code = ''.join(random.choices(string.digits + string.ascii_letters))\n",
    "            \n",
    "            hexa_colors.append('#{}'.format(color_code))\n",
    "    \n",
    "        return hexa_colors\n",
    "    elif color_type == 'rgb':\n",
    "        \n",
    "        for i in range(num_colors):\n",
    "        \n",
    "            red = random.randint(0, 255)\n",
    "            green = random.randint(0, 255)\n",
    "            blue = random.randint(0, 255)\n",
    "        \n",
    "            rgb.append(f'rgb{[red,green,blue]}')\n",
    "    \n",
    "        return rgb\n",
    "    else:\n",
    "        print(\"Invalid Color format. please select 'hexa' or 'rgb'\")\n",
    "        \n",
    "        \n",
    "\n",
    "generate_colors('hexa', 3) # ['#a3e12f','#03ed55','#eb3d2b'] \n",
    "\n"
   ]
  },
  {
   "cell_type": "code",
   "execution_count": 30,
   "metadata": {},
   "outputs": [
    {
     "data": {
      "text/plain": [
       "['#B']"
      ]
     },
     "execution_count": 30,
     "metadata": {},
     "output_type": "execute_result"
    }
   ],
   "source": [
    "generate_colors('hexa', 1)"
   ]
  },
  {
   "cell_type": "code",
   "execution_count": 31,
   "metadata": {},
   "outputs": [
    {
     "data": {
      "text/plain": [
       "['rgb[96, 49, 238]', 'rgb[89, 106, 27]', 'rgb[174, 29, 52]']"
      ]
     },
     "execution_count": 31,
     "metadata": {},
     "output_type": "execute_result"
    }
   ],
   "source": [
    "generate_colors('rgb', 3)  \n"
   ]
  },
  {
   "cell_type": "code",
   "execution_count": 32,
   "metadata": {},
   "outputs": [
    {
     "data": {
      "text/plain": [
       "['rgb[3, 123, 50]']"
      ]
     },
     "execution_count": 32,
     "metadata": {},
     "output_type": "execute_result"
    }
   ],
   "source": [
    "generate_colors('rgb', 1)   "
   ]
  },
  {
   "cell_type": "markdown",
   "metadata": {},
   "source": [
    "Exercises: Level 3"
   ]
  },
  {
   "cell_type": "markdown",
   "metadata": {},
   "source": [
    "Call your function shuffle_list, it takes a list as a parameter and it returns a shuffled list"
   ]
  },
  {
   "cell_type": "code",
   "execution_count": 33,
   "metadata": {},
   "outputs": [
    {
     "name": "stdout",
     "output_type": "stream",
     "text": [
      "Original list i [1, 2, 3, 4, 5, 6, 7, 8, 9], shuffled list is [9, 5, 2, 3, 1, 6, 4, 8, 7]\n"
     ]
    }
   ],
   "source": [
    "def shuffle_list(list):\n",
    "    \n",
    "    shuffle = list.copy()\n",
    "    \n",
    "    random.shuffle(shuffle)\n",
    "    \n",
    "    return shuffle\n",
    "\n",
    "list = [1,2,3,4,5,6,7,8,9]\n",
    "print(\"Original list i {}, shuffled list is {}\".format(list, shuffle_list(list)))"
   ]
  },
  {
   "cell_type": "markdown",
   "metadata": {},
   "source": [
    "Write a function which returns an array of seven random numbers in a range of 0-9. All the numbers must be unique."
   ]
  },
  {
   "cell_type": "code",
   "execution_count": 35,
   "metadata": {},
   "outputs": [
    {
     "name": "stdout",
     "output_type": "stream",
     "text": [
      "Seven random unique arrays [3, 8, 7, 9, 2, 6, 0]\n"
     ]
    }
   ],
   "source": [
    "def random_array():\n",
    "    \n",
    "    num = random.sample(range(10),7)\n",
    "    return num\n",
    "\n",
    "print('Seven random unique arrays', random_array())"
   ]
  },
  {
   "cell_type": "code",
   "execution_count": null,
   "metadata": {},
   "outputs": [],
   "source": []
  }
 ],
 "metadata": {
  "kernelspec": {
   "display_name": "Python 3 (ipykernel)",
   "language": "python",
   "name": "python3"
  },
  "language_info": {
   "codemirror_mode": {
    "name": "ipython",
    "version": 3
   },
   "file_extension": ".py",
   "mimetype": "text/x-python",
   "name": "python",
   "nbconvert_exporter": "python",
   "pygments_lexer": "ipython3",
   "version": "3.9.12"
  }
 },
 "nbformat": 4,
 "nbformat_minor": 2
}
