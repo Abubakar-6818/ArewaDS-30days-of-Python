{
 "cells": [
  {
   "cell_type": "markdown",
   "metadata": {},
   "source": [
    "What is the most frequent word in the following paragraph?"
   ]
  },
  {
   "cell_type": "code",
   "execution_count": 2,
   "metadata": {},
   "outputs": [
    {
     "data": {
      "text/plain": [
       "[(6, 'love'),\n",
       " (5, 'you'),\n",
       " (3, 'can'),\n",
       " (2, 'what'),\n",
       " (2, 'teaching'),\n",
       " (2, 'not'),\n",
       " (2, 'if'),\n",
       " (2, 'i'),\n",
       " (2, 'else'),\n",
       " (2, 'do'),\n",
       " (1, 'which'),\n",
       " (1, 'to'),\n",
       " (1, 'the'),\n",
       " (1, 'something'),\n",
       " (1, 'python'),\n",
       " (1, 'give'),\n",
       " (1, 'develop'),\n",
       " (1, 'capabilities'),\n",
       " (1, 'application'),\n",
       " (1, 'an'),\n",
       " (1, 'all')]"
      ]
     },
     "execution_count": 2,
     "metadata": {},
     "output_type": "execute_result"
    }
   ],
   "source": [
    "from collections import Counter\n",
    "import re\n",
    "\n",
    "paragraph = 'I love teaching. If you do not love teaching what else can you love. I love Python if you do not love something which can give you all the capabilities to develop an application what else can you love.'\n",
    "\n",
    "# Tokenize the paragraph into words\n",
    "words = re.findall(r'\\b\\w+\\b', paragraph.lower())\n",
    "\n",
    "# Count the frequency of each word\n",
    "word_counts = Counter(words)\n",
    "\n",
    "# Convert the Counter object to a list of tuples (frequency, word)\n",
    "word_frequency_list = [(count, word) for word, count in word_counts.items()]\n",
    "\n",
    "# Sort the list in descending order based on frequency\n",
    "sorted_word_frequency = sorted(word_frequency_list, reverse=True)\n",
    "\n",
    "# Display the result\n",
    "(sorted_word_frequency)\n"
   ]
  },
  {
   "cell_type": "markdown",
   "metadata": {},
   "source": [
    "The position of some particles on the horizontal x-axis are -12, -4, -3 and -1 in the negative direction, 0 at origin, 4 and 8 in the positive direction. Extract these numbers from this whole text and find the distance between the two furthest particles."
   ]
  },
  {
   "cell_type": "code",
   "execution_count": 6,
   "metadata": {},
   "outputs": [
    {
     "name": "stdout",
     "output_type": "stream",
     "text": [
      "Sorted Points: [-12, -4, -3, -1, 0, 4, 8]\n",
      "Distance between furthest particles: 20\n"
     ]
    }
   ],
   "source": [
    "points = ['-12', '-4', '-3', '-1', '0', '4', '8']\n",
    "\n",
    "# Convert the points to integers\n",
    "int_points = [int(point) for point in points]\n",
    "\n",
    "# Sort the points in ascending order\n",
    "sorted_points = sorted(int_points)\n",
    "\n",
    "# Find the distance between the two furthest particles\n",
    "distance = sorted_points[-1] - sorted_points[0]\n",
    "\n",
    "print(\"Sorted Points:\", sorted_points)\n",
    "print(\"Distance between furthest particles:\", distance)\n"
   ]
  },
  {
   "cell_type": "markdown",
   "metadata": {},
   "source": [
    "Exercises: Level 2\n",
    "Write a pattern which identifies if a string is a valid python variable"
   ]
  },
  {
   "cell_type": "code",
   "execution_count": 7,
   "metadata": {},
   "outputs": [
    {
     "name": "stdout",
     "output_type": "stream",
     "text": [
      "True\n",
      "False\n",
      "False\n",
      "True\n"
     ]
    }
   ],
   "source": [
    "import re\n",
    "\n",
    "def is_valid_variable(variable):\n",
    "    pattern = re.compile(r'^[a-zA-Z_][a-zA-Z0-9_]*$')\n",
    "    return bool(pattern.match(variable))\n",
    "\n",
    "# Test cases\n",
    "print(is_valid_variable('first_name'))    # True\n",
    "print(is_valid_variable('first-name'))    # False\n",
    "print(is_valid_variable('1first_name'))   # False\n",
    "print(is_valid_variable('firstname'))     # True\n"
   ]
  },
  {
   "cell_type": "markdown",
   "metadata": {},
   "source": [
    "Exercises: Level 3\n"
   ]
  },
  {
   "cell_type": "markdown",
   "metadata": {},
   "source": [
    "Clean the following text. After cleaning, count three most frequent words in the string."
   ]
  },
  {
   "cell_type": "code",
   "execution_count": 14,
   "metadata": {},
   "outputs": [
    {
     "data": {
      "text/plain": [
       "'i am a teacher and i love teachingthere is nothing as more rewarding as educating and empowering people i found teaching more interesting than any other jobs does this motivate you to be a teacher'"
      ]
     },
     "execution_count": 14,
     "metadata": {},
     "output_type": "execute_result"
    }
   ],
   "source": [
    "sentence = '''%I $am@% a %tea@cher%, &and& I lo%#ve %tea@ching%;.There $is nothing; &as& mo@re rewarding as educa@ting &and& @emp%o@wering peo@ple. ;I found tea@ching m%o@re interesting tha@n any other %jo@bs. %Do@es thi%s mo@tivate yo@u to be a tea@cher!?'''\n",
    "cleaned_sentence = re.sub(r'[^a-zA-Z\\s]', '', sentence).lower()\n",
    "cleaned_sentence"
   ]
  },
  {
   "cell_type": "code",
   "execution_count": 15,
   "metadata": {},
   "outputs": [
    {
     "name": "stdout",
     "output_type": "stream",
     "text": [
      "The most common words are:  [('i', 3), ('a', 2), ('teacher', 2)]\n"
     ]
    }
   ],
   "source": [
    "words = cleaned_sentence.split()\n",
    "words_count = Counter(words)\n",
    "most_common_words = words_count.most_common(3)\n",
    "print(\"The most common words are: \", most_common_words)"
   ]
  },
  {
   "cell_type": "code",
   "execution_count": null,
   "metadata": {},
   "outputs": [],
   "source": []
  }
 ],
 "metadata": {
  "kernelspec": {
   "display_name": "Python 3",
   "language": "python",
   "name": "python3"
  },
  "language_info": {
   "codemirror_mode": {
    "name": "ipython",
    "version": 3
   },
   "file_extension": ".py",
   "mimetype": "text/x-python",
   "name": "python",
   "nbconvert_exporter": "python",
   "pygments_lexer": "ipython3",
   "version": "3.9.12"
  }
 },
 "nbformat": 4,
 "nbformat_minor": 2
}
