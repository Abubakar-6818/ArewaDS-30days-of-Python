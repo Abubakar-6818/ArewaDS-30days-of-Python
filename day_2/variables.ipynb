{
 "cells": [
  {
   "cell_type": "code",
   "execution_count": 1,
   "metadata": {},
   "outputs": [],
   "source": [
    "#Day 2: 30 Days of python programming\n",
    "first_name = 'Abubakar'\n",
    "last_name = 'Al-amin'\n",
    "full_name = 'Abubakar Abubakar Al-amin'\n",
    "country = 'Nigeria'\n",
    "city = 'Gombe'\n",
    "age = 21\n",
    "year = 2023\n",
    "is_married = 'No'\n",
    "is_true = 'yes'\n",
    "is_light_on = 'no'\n",
    "\n",
    "school, course, level = 'Gombe State University', 'Statistis', 400\n"
   ]
  },
  {
   "cell_type": "code",
   "execution_count": 14,
   "metadata": {},
   "outputs": [
    {
     "name": "stdout",
     "output_type": "stream",
     "text": [
      "<class 'str'>\n",
      "<class 'str'>\n",
      "<class 'str'>\n",
      "<class 'str'>\n",
      "<class 'str'>\n",
      "<class 'int'>\n",
      "<class 'int'>\n",
      "<class 'str'>\n",
      "<class 'str'>\n",
      "<class 'str'>\n",
      "8\n",
      "The length of my first name is 8 and for the last name is 7\n"
     ]
    }
   ],
   "source": [
    "print(type(first_name))\n",
    "print(type(last_name))\n",
    "print(type(full_name))\n",
    "print(type(country))\n",
    "print(type(city))\n",
    "print(type(age))\n",
    "print(type(year))\n",
    "print(type(is_married))\n",
    "print(type(is_true))\n",
    "print(type(is_light_on))\n",
    "\n",
    "print(len(first_name))\n",
    "print(\"The length of my first name is\", len(first_name), \"and for the last name is\", len(last_name))\n",
    "\n",
    "num_one, num_two = 5,4\n",
    "total, diff, product, division = num_one+num_two, num_one-num_two, num_one*num_two, num_one/num_two\n",
    "remainder, exp, floor_division= num_two%num_one, num_one^num_two, num_one//num_two\n",
    "\n",
    "area_of_circle = (22/7)*30**2\n",
    "circum_of_circle = 2*(22/7)*30\n",
    "\n",
    "r = float(input('Enter the a radius of a circle :'))\n",
    "area = (22/7)*r**2"
   ]
  },
  {
   "cell_type": "code",
   "execution_count": 16,
   "metadata": {},
   "outputs": [],
   "source": [
    "first_name = str(input('Entre your first name :'))\n",
    "last_name = str(input('Entre your last name :'))\n",
    "country = str(input('Entre your country :'))\n",
    "age = int(input('Entre your age :'))"
   ]
  },
  {
   "cell_type": "code",
   "execution_count": 17,
   "metadata": {},
   "outputs": [
    {
     "name": "stdout",
     "output_type": "stream",
     "text": [
      "\n",
      "Here is a list of the Python keywords.  Enter any keyword to get more help.\n",
      "\n",
      "False               break               for                 not\n",
      "None                class               from                or\n",
      "True                continue            global              pass\n",
      "__peg_parser__      def                 if                  raise\n",
      "and                 del                 import              return\n",
      "as                  elif                in                  try\n",
      "assert              else                is                  while\n",
      "async               except              lambda              with\n",
      "await               finally             nonlocal            yield\n",
      "\n"
     ]
    }
   ],
   "source": [
    "help('keywords')"
   ]
  }
 ],
 "metadata": {
  "kernelspec": {
   "display_name": "base",
   "language": "python",
   "name": "python3"
  },
  "language_info": {
   "codemirror_mode": {
    "name": "ipython",
    "version": 3
   },
   "file_extension": ".py",
   "mimetype": "text/x-python",
   "name": "python",
   "nbconvert_exporter": "python",
   "pygments_lexer": "ipython3",
   "version": "3.9.12"
  }
 },
 "nbformat": 4,
 "nbformat_minor": 2
}
