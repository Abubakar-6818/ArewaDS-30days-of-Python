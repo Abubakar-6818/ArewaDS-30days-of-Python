{
 "cells": [
  {
   "cell_type": "code",
   "execution_count": 16,
   "metadata": {},
   "outputs": [
    {
     "name": "stdout",
     "output_type": "stream",
     "text": [
      "Thirty Days Of Python\n",
      "CodingFor All\n"
     ]
    }
   ],
   "source": [
    "string = ['Thirty', 'Days', 'Of', 'Python']\n",
    "result = ' '.join(string)\n",
    "print(result)\n",
    "\n",
    "code = ['Coding' 'For', 'All']\n",
    "codes = ' '.join(code)\n",
    "print(codes)"
   ]
  },
  {
   "cell_type": "code",
   "execution_count": 17,
   "metadata": {},
   "outputs": [
    {
     "name": "stdout",
     "output_type": "stream",
     "text": [
      "Coding For All\n",
      "The length of the company is:  14\n",
      "company in upper case:  CODING FOR ALL\n",
      "company in lower case:  coding for all\n",
      "company in capitalize form:  Coding for all\n",
      "company in title case:  Coding For All\n",
      "company in swap case:  cODING fOR aLL\n"
     ]
    },
    {
     "data": {
      "text/plain": [
       "'Python For All'"
      ]
     },
     "execution_count": 17,
     "metadata": {},
     "output_type": "execute_result"
    }
   ],
   "source": [
    "company = 'Coding For All'\n",
    "\n",
    "print(company)\n",
    "\n",
    "print('The length of the company is: ',len(company))\n",
    "\n",
    "print('company in upper case: ',(company.upper()))\n",
    "print('company in lower case: ',(company.lower()))\n",
    "print('company in capitalize form: ',(company.capitalize()))\n",
    "print('company in title case: ',(company.title()))\n",
    "print('company in swap case: ',(company.swapcase()))\n",
    "\n",
    "first = company[:6]\n",
    "company.index('Coding')\n",
    "\n",
    "company.replace('Coding', 'Python')"
   ]
  },
  {
   "cell_type": "code",
   "execution_count": 18,
   "metadata": {},
   "outputs": [
    {
     "name": "stdout",
     "output_type": "stream",
     "text": [
      "['Coding', 'For', 'All']\n",
      "['Facebook', ' Google', ' Microsoft', ' Apple', ' IBM', ' Oracle', ' Amazon']\n"
     ]
    }
   ],
   "source": [
    "python = 'Python for everyone'\n",
    "python.replace('everyone', 'All')\n",
    "\n",
    "print('Coding For All'.split(' '))\n",
    "\n",
    "print('Facebook, Google, Microsoft, Apple, IBM, Oracle, Amazon'.split(','))"
   ]
  },
  {
   "cell_type": "code",
   "execution_count": 19,
   "metadata": {},
   "outputs": [
    {
     "name": "stdout",
     "output_type": "stream",
     "text": [
      "Character at in index 0 is : C\n",
      "The last character for \"Coding For All\" is : l\n",
      "The Character at in index 10 is :  \n"
     ]
    }
   ],
   "source": [
    "code_for_all = 'Coding For All'\n",
    "print('Character at in index 0 is :', code_for_all[0])\n",
    "print('The last character for \"Coding For All\" is :', code_for_all[-1])\n",
    "print('The Character at in index 10 is :', code_for_all[10])\n"
   ]
  },
  {
   "cell_type": "code",
   "execution_count": 21,
   "metadata": {},
   "outputs": [
    {
     "name": "stdout",
     "output_type": "stream",
     "text": [
      "First occurance of C:  0\n",
      "First occurance of F:  7\n",
      "last occurance of i:  3\n"
     ]
    }
   ],
   "source": [
    "PFE = 'Python For Everyone'\n",
    "CFA = \"Coding For All\"\n",
    "print('First occurance of C: ', CFA.index('C'))\n",
    "print('First occurance of F: ', CFA.index('F'))\n",
    "print('last occurance of i: ', CFA.rfind('i'))\n"
   ]
  },
  {
   "cell_type": "code",
   "execution_count": 22,
   "metadata": {},
   "outputs": [
    {
     "name": "stdout",
     "output_type": "stream",
     "text": [
      "The first occurance of the Word \"because\" in the sentene is in index:  31\n"
     ]
    }
   ],
   "source": [
    "sentence =  'You cannot end a sentence with because because because is a conjunction'\n",
    "print('The first occurance of the Word \"because\" in the sentene is in index: ', sentence.find('because'))"
   ]
  },
  {
   "cell_type": "code",
   "execution_count": 23,
   "metadata": {},
   "outputs": [
    {
     "name": "stdout",
     "output_type": "stream",
     "text": [
      "The last occurance of the Word \"because\" in the sentene is in index:  47\n"
     ]
    }
   ],
   "source": [
    "sentence = 'You cannot end a sentence with because because because is a conjunction'\n",
    "print('The last occurance of the Word \"because\" in the sentene is in index: ', sentence.rindex('because'))"
   ]
  },
  {
   "cell_type": "code",
   "execution_count": 29,
   "metadata": {},
   "outputs": [
    {
     "name": "stdout",
     "output_type": "stream",
     "text": [
      "Stripped string: Coding For All\n"
     ]
    }
   ],
   "source": [
    "pharse = 'You cannot end a sentence with because because because is a conjunction'\n",
    "pharse[31:54]\n",
    "\n",
    "#Does ''Coding For All' start with a substring Coding?\n",
    "# Yes\n",
    "\n",
    "#Does 'Coding For All' end with a substring coding?\n",
    "# No\n",
    " \n",
    "string = '  Coding For All    '\n",
    "stripped_string = string.strip()\n",
    "print(\"Stripped string:\", stripped_string)"
   ]
  },
  {
   "cell_type": "code",
   "execution_count": 30,
   "metadata": {},
   "outputs": [
    {
     "name": "stdout",
     "output_type": "stream",
     "text": [
      "False\n",
      "True\n"
     ]
    }
   ],
   "source": [
    "print('30DaysOfPython'.isidentifier())\n",
    "print('thirty_days_of_python'.isidentifier())"
   ]
  },
  {
   "cell_type": "code",
   "execution_count": 32,
   "metadata": {},
   "outputs": [
    {
     "data": {
      "text/plain": [
       "'Django#Flask#Bottle#Pyramid#Falcon'"
      ]
     },
     "execution_count": 32,
     "metadata": {},
     "output_type": "execute_result"
    }
   ],
   "source": [
    "libraris = ['Django', 'Flask', 'Bottle', 'Pyramid', 'Falcon']\n",
    "'#'.join(libraris)"
   ]
  },
  {
   "cell_type": "code",
   "execution_count": 33,
   "metadata": {},
   "outputs": [
    {
     "name": "stdout",
     "output_type": "stream",
     "text": [
      "I am enjoying this challenge.\n",
      " I just wonder what is next.\n"
     ]
    }
   ],
   "source": [
    "print('I am enjoying this challenge.\\n I just wonder what is next.')"
   ]
  },
  {
   "cell_type": "code",
   "execution_count": 34,
   "metadata": {},
   "outputs": [
    {
     "name": "stdout",
     "output_type": "stream",
     "text": [
      "Name\tAge\tCountry\tCity\n",
      "Asabeneh\t250\tFinland\tHelsinki\n"
     ]
    }
   ],
   "source": [
    "print('Name\\tAge\\tCountry\\tCity')\n",
    "print('Asabeneh\\t250\\tFinland\\tHelsinki')"
   ]
  },
  {
   "cell_type": "code",
   "execution_count": 36,
   "metadata": {},
   "outputs": [
    {
     "name": "stdout",
     "output_type": "stream",
     "text": [
      "The area of a circle with radius 10 is 314.0 meters square.\n"
     ]
    }
   ],
   "source": [
    "radius = 10\n",
    "area = 3.14 * radius ** 2\n",
    "print('The area of a circle with radius {} is {} meters square.'.format(radius,area))"
   ]
  },
  {
   "cell_type": "code",
   "execution_count": 37,
   "metadata": {},
   "outputs": [
    {
     "name": "stdout",
     "output_type": "stream",
     "text": [
      "8 + 6 = 14\n",
      "8 - 6 = 2\n",
      "8 * 6 = 48\n",
      "8 / 6 = 1.33\n",
      "8 % 6 = 2\n",
      "8 // 6 = 1\n",
      "8 ** 6 = 262144\n"
     ]
    }
   ],
   "source": [
    "# Using .format() method\n",
    "print(\"8 + 6 = {}\".format(8 + 6))\n",
    "print(\"8 - 6 = {}\".format(8 - 6))\n",
    "print(\"8 * 6 = {}\".format(8 * 6))\n",
    "print(\"8 / 6 = {:.2f}\".format(8 / 6))\n",
    "print(\"8 % 6 = {}\".format(8 % 6))\n",
    "print(\"8 // 6 = {}\".format(8 // 6))\n",
    "print(\"8 ** 6 = {}\".format(8 ** 6))\n"
   ]
  }
 ],
 "metadata": {
  "kernelspec": {
   "display_name": "base",
   "language": "python",
   "name": "python3"
  },
  "language_info": {
   "codemirror_mode": {
    "name": "ipython",
    "version": 3
   },
   "file_extension": ".py",
   "mimetype": "text/x-python",
   "name": "python",
   "nbconvert_exporter": "python",
   "pygments_lexer": "ipython3",
   "version": "3.9.12"
  }
 },
 "nbformat": 4,
 "nbformat_minor": 2
}
