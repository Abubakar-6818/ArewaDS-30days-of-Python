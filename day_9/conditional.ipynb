{
 "cells": [
  {
   "cell_type": "markdown",
   "metadata": {},
   "source": [
    "Level 1"
   ]
  },
  {
   "cell_type": "code",
   "execution_count": 13,
   "metadata": {},
   "outputs": [
    {
     "name": "stdout",
     "output_type": "stream",
     "text": [
      "You are old enough to learn how to drive\n"
     ]
    }
   ],
   "source": [
    "age = int(input((\"Enter Your age \")))\n",
    "if age >= 18:\n",
    "    print('You are old enough to learn how to drive')\n",
    "else:\n",
    "    print('Remaining age {} years  to learn how to drive'.format(18-(age)))"
   ]
  },
  {
   "cell_type": "code",
   "execution_count": 14,
   "metadata": {},
   "outputs": [
    {
     "name": "stdout",
     "output_type": "stream",
     "text": [
      "You are 9 years older than me \n"
     ]
    }
   ],
   "source": [
    "my_age = 21\n",
    "your_age = int(input('Enter your age: '))\n",
    "\n",
    "\n",
    "if my_age < your_age:\n",
    "    difference = your_age-my_age\n",
    "    if difference == 1:\n",
    "        print('You are older than me with a year.')\n",
    "    else:\n",
    "        print('You are {} years older than me '.format(your_age-my_age))\n",
    "elif my_age > your_age:\n",
    "    difference = my_age - your_age\n",
    "    if difference == 1:\n",
    "        print('Im older than you with a year.')\n",
    "    else:\n",
    "        print('Im older {} years than you '.format(my_age-your_age))\n",
    "else:\n",
    "    print('We are all on thesame age {}'.format(my_age))\n",
    "        "
   ]
  },
  {
   "cell_type": "code",
   "execution_count": 16,
   "metadata": {},
   "outputs": [
    {
     "name": "stdout",
     "output_type": "stream",
     "text": [
      "A is greater than B\n"
     ]
    }
   ],
   "source": [
    "a = int(input('Enter number one'))\n",
    "b = int(input('Enter number two'))\n",
    "\n",
    "if a > b:\n",
    "    print('A is greater than B')\n",
    "elif b>a:\n",
    "    print('B is greater than A')\n",
    "else:\n",
    "    print(\" A = B\")"
   ]
  },
  {
   "cell_type": "markdown",
   "metadata": {},
   "source": [
    "Level 2"
   ]
  },
  {
   "cell_type": "code",
   "execution_count": 18,
   "metadata": {},
   "outputs": [
    {
     "name": "stdout",
     "output_type": "stream",
     "text": [
      "You score F\n"
     ]
    }
   ],
   "source": [
    "score = int(input('EnterYou score'))\n",
    "\n",
    "if (score >= 90) and (score == 100):\n",
    "    print('You score A')\n",
    "elif (score >=70) and (score < 89):\n",
    "    print('You score B')\n",
    "elif (score >=60) and (score < 70):\n",
    "    print('You score C')\n",
    "elif (score >= 50 ) and (score and  60):\n",
    "    print('You score D')\n",
    "elif (score >= 0 ) and (score and  50):\n",
    "    print('You score F')\n",
    "else:\n",
    "    print('you enter a wrong score')\n",
    "\n",
    "    \n",
    "    \n"
   ]
  },
  {
   "cell_type": "code",
   "execution_count": 24,
   "metadata": {},
   "outputs": [
    {
     "name": "stdout",
     "output_type": "stream",
     "text": [
      "The Season is Summer\n"
     ]
    }
   ],
   "source": [
    "season = input(\"Enter Season\")\n",
    "\n",
    "if ((season == ('September') ) or (season == ('October') )or (season ==('November'))):\n",
    "    print('The season is Autumn')\n",
    "elif ((season == 'December') or (season ==('January')) or( season == ('February'))):\n",
    "    print('The season is Winter')\n",
    "elif ((season == ('March')) or (season ==('April')) or (season ==('May'))):\n",
    "    print('The season is Spring')\n",
    "elif (season == 'June') or (season =='July') or (season =='August'):\n",
    "    print('The Season is Summer')\n",
    "else:\n",
    "    print('The season is out of scobe')"
   ]
  },
  {
   "cell_type": "code",
   "execution_count": 27,
   "metadata": {},
   "outputs": [
    {
     "name": "stdout",
     "output_type": "stream",
     "text": [
      "['banana', 'orange', 'mango', 'lemon', 'apple']\n"
     ]
    }
   ],
   "source": [
    "fruits= ['banana', 'orange', 'mango', 'lemon']\n",
    "fruit = input('Enter a fruit name')\n",
    "\n",
    "if fruit in fruits:\n",
    "    print('The fruit {} already exist in the list'.format(fruit))\n",
    "else:\n",
    "    fruits.append(fruit)\n",
    "    print(fruits)"
   ]
  },
  {
   "cell_type": "code",
   "execution_count": 40,
   "metadata": {},
   "outputs": [
    {
     "name": "stdout",
     "output_type": "stream",
     "text": [
      "Node\n"
     ]
    }
   ],
   "source": [
    "person ={\n",
    "    'first_name': 'Abubakar',\n",
    "    'last_name':'Al-amin',\n",
    "    'age':21,\n",
    "    'country':'Finland',\n",
    "    'is_married':False,\n",
    "    'Skills': ['Javascript', 'React', 'Node', 'MongoDB','Python'],\n",
    "    'address':{\n",
    "        'street':'Space street',\n",
    "        'zipcode':'02210'\n",
    "    }  \n",
    "}\n",
    "\n",
    "\n",
    "if ('Skills' in person.keys()) == True:\n",
    "    print(person['Skills'][2])\n",
    "else:\n",
    "    print('There is no skills key in the dictionary')"
   ]
  },
  {
   "cell_type": "code",
   "execution_count": 46,
   "metadata": {},
   "outputs": [
    {
     "name": "stdout",
     "output_type": "stream",
     "text": [
      "Python\n"
     ]
    }
   ],
   "source": [
    "if ('Skills' in person.keys()) == True:\n",
    "    if 'Python' in person['Skills']:\n",
    "        print(' Person has Python skill')\n",
    "    else:\n",
    "        print('Python is not in the skills')\n",
    "    \n",
    "else:\n",
    "    print('There is no skills key in the dictionary')\n"
   ]
  },
  {
   "cell_type": "code",
   "execution_count": 47,
   "metadata": {},
   "outputs": [
    {
     "name": "stdout",
     "output_type": "stream",
     "text": [
      " Person has Python skill\n",
      "Unkmown title\n"
     ]
    }
   ],
   "source": [
    "skills = person['Skills']\n",
    "if ('Skills' in person.keys()) == True:\n",
    "    if 'Python' in person['Skills']:\n",
    "        print(' Person has Python skill')\n",
    "    \n",
    "    if set(skills) == {'Javascript', 'React'}:\n",
    "        print('He is a front end developer')\n",
    "    elif set(skills) == {'Node', 'Python', 'MongoDB'}:\n",
    "        print('He is a backend developer')\n",
    "    elif set(skills) == {'React', 'Node', 'MongoDB'}:\n",
    "        print('He is a full stack developer')\n",
    "    else:\n",
    "        print('Unkmown title')\n",
    "    "
   ]
  },
  {
   "cell_type": "code",
   "execution_count": null,
   "metadata": {},
   "outputs": [],
   "source": [
    "if person.get('is_married') and person.get('country') == 'Finland':\n",
    "    print(f'{person[\"first_name\"]} {person[\"last_name\"]} lives in Finland. He is married. ')"
   ]
  }
 ],
 "metadata": {
  "kernelspec": {
   "display_name": "Python 3",
   "language": "python",
   "name": "python3"
  },
  "language_info": {
   "codemirror_mode": {
    "name": "ipython",
    "version": 3
   },
   "file_extension": ".py",
   "mimetype": "text/x-python",
   "name": "python",
   "nbconvert_exporter": "python",
   "pygments_lexer": "ipython3",
   "version": "3.9.12"
  }
 },
 "nbformat": 4,
 "nbformat_minor": 2
}
