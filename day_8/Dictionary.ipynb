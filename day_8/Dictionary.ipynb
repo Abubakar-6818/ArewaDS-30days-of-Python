{
 "cells": [
  {
   "cell_type": "code",
   "execution_count": 1,
   "metadata": {},
   "outputs": [],
   "source": [
    "#Dictionary \n",
    "empty_dict = {}"
   ]
  },
  {
   "cell_type": "code",
   "execution_count": 4,
   "metadata": {},
   "outputs": [
    {
     "name": "stdout",
     "output_type": "stream",
     "text": [
      "The length of the student dictionary is : 8\n",
      "<class 'str'>\n"
     ]
    }
   ],
   "source": [
    "dog  = {'Name':'Mickey', 'Color':'Black and White', \"Breed\":'Bulldog', 'legs': '4','age':'5'}\n",
    "students = {'First_name':'Abubakar','Last_name':'Al-amin', 'Gender':'Male', 'Age':'21', \n",
    "            'Marital Status':'Single', 'Skills':'Hunter', 'City':'Gombe',\"Address\" :\"Kumbiya kumbiya\"}\n",
    "print('The length of the student dictionary is :', len(students))\n",
    "print(type(students['Skills']))"
   ]
  },
  {
   "cell_type": "code",
   "execution_count": 5,
   "metadata": {},
   "outputs": [],
   "source": [
    "students['Skills'] = ['Speed', \"Accurate\", 'Fast']"
   ]
  },
  {
   "cell_type": "code",
   "execution_count": 6,
   "metadata": {},
   "outputs": [
    {
     "data": {
      "text/plain": [
       "{'First_name': 'Abubakar',\n",
       " 'Last_name': 'Al-amin',\n",
       " 'Gender': 'Male',\n",
       " 'Age': '21',\n",
       " 'Marital Status': 'Single',\n",
       " 'Skills': ['Speed', 'Accurate', 'Fast'],\n",
       " 'City': 'Gombe',\n",
       " 'Address': 'Kumbiya kumbiya'}"
      ]
     },
     "execution_count": 6,
     "metadata": {},
     "output_type": "execute_result"
    }
   ],
   "source": [
    "students"
   ]
  },
  {
   "cell_type": "code",
   "execution_count": 7,
   "metadata": {},
   "outputs": [
    {
     "data": {
      "text/plain": [
       "dict_keys(['First_name', 'Last_name', 'Gender', 'Age', 'Marital Status', 'Skills', 'City', 'Address'])"
      ]
     },
     "execution_count": 7,
     "metadata": {},
     "output_type": "execute_result"
    }
   ],
   "source": [
    "dic_keys = students.keys()\n",
    "dic_keys"
   ]
  },
  {
   "cell_type": "code",
   "execution_count": 8,
   "metadata": {},
   "outputs": [
    {
     "data": {
      "text/plain": [
       "dict_values(['Abubakar', 'Al-amin', 'Male', '21', 'Single', ['Speed', 'Accurate', 'Fast'], 'Gombe', 'Kumbiya kumbiya'])"
      ]
     },
     "execution_count": 8,
     "metadata": {},
     "output_type": "execute_result"
    }
   ],
   "source": [
    "dic_values = students.values()\n",
    "dic_values"
   ]
  },
  {
   "cell_type": "code",
   "execution_count": 9,
   "metadata": {},
   "outputs": [
    {
     "name": "stdout",
     "output_type": "stream",
     "text": [
      "dict_items([('First_name', 'Abubakar'), ('Last_name', 'Al-amin'), ('Gender', 'Male'), ('Age', '21'), ('Marital Status', 'Single'), ('Skills', ['Speed', 'Accurate', 'Fast']), ('City', 'Gombe'), ('Address', 'Kumbiya kumbiya')])\n"
     ]
    }
   ],
   "source": [
    "print(students.items())"
   ]
  },
  {
   "cell_type": "code",
   "execution_count": 10,
   "metadata": {},
   "outputs": [
    {
     "data": {
      "text/plain": [
       "('Address', 'Kumbiya kumbiya')"
      ]
     },
     "execution_count": 10,
     "metadata": {},
     "output_type": "execute_result"
    }
   ],
   "source": [
    "students.popitem()"
   ]
  },
  {
   "cell_type": "code",
   "execution_count": null,
   "metadata": {},
   "outputs": [],
   "source": [
    "del students"
   ]
  }
 ],
 "metadata": {
  "kernelspec": {
   "display_name": "Python 3",
   "language": "python",
   "name": "python3"
  },
  "language_info": {
   "codemirror_mode": {
    "name": "ipython",
    "version": 3
   },
   "file_extension": ".py",
   "mimetype": "text/x-python",
   "name": "python",
   "nbconvert_exporter": "python",
   "pygments_lexer": "ipython3",
   "version": "3.9.12"
  }
 },
 "nbformat": 4,
 "nbformat_minor": 2
}
