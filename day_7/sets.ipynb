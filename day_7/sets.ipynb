{
 "cells": [
  {
   "cell_type": "markdown",
   "metadata": {},
   "source": [
    "Exercises: Level 1"
   ]
  },
  {
   "cell_type": "code",
   "execution_count": 1,
   "metadata": {},
   "outputs": [],
   "source": [
    "# sets\n",
    "it_companies = {'Facebook', 'Google', 'Microsoft', 'Apple', 'IBM', 'Oracle', 'Amazon'}\n",
    "A = {19, 22, 24, 20, 25, 26}\n",
    "B = {19, 22, 20, 25, 26, 24, 28, 27}\n",
    "age = [22, 19, 24, 25, 26, 24, 25, 24]"
   ]
  },
  {
   "cell_type": "code",
   "execution_count": null,
   "metadata": {},
   "outputs": [],
   "source": [
    "#length of the companies\n",
    "print(\"The Number of the companies is\", len(it_companies))\n",
    "#Adding 'Twitter' to it_companies\n",
    "it_companies.add('Twitter')\n",
    "it_companies.remove('Google') #Removing one of the companies\n",
    "\n",
    "#The discard method removes the specified item from the set, \n",
    "# while the remove method will raise an error if the specified item does not exist\n"
   ]
  },
  {
   "cell_type": "markdown",
   "metadata": {},
   "source": [
    "Exercises: Level 2"
   ]
  },
  {
   "cell_type": "code",
   "execution_count": 2,
   "metadata": {},
   "outputs": [
    {
     "name": "stdout",
     "output_type": "stream",
     "text": [
      "The intersection between A and B is: {19, 20, 22, 24, 25, 26, 27, 28}\n",
      "Are A and B a disjoint sets: False\n",
      "The symmetric difference between A and B is : set()\n"
     ]
    }
   ],
   "source": [
    "#joining A and B \n",
    "AB = A.update(B)\n",
    "print(\"The intersection between A and B is:\", A.intersection(B))\n",
    "print(\"Are A and B a disjoint sets:\", A.isdisjoint(B))\n",
    "print('The symmetric difference between A and B is :', A.symmetric_difference(B))\n",
    "#Deleting the sets \n",
    "del A\n",
    "del B\n",
    "del AB"
   ]
  },
  {
   "cell_type": "markdown",
   "metadata": {},
   "source": [
    "Exercises: Level 3"
   ]
  },
  {
   "cell_type": "code",
   "execution_count": 3,
   "metadata": {},
   "outputs": [
    {
     "name": "stdout",
     "output_type": "stream",
     "text": [
      "Length of age is: 8\n",
      "Length of set_age is: 5\n"
     ]
    }
   ],
   "source": [
    "set_age = set(age)\n",
    "\n",
    "#comparing the length age and set_age\n",
    "print(\"Length of age is:\", len(age))\n",
    "print(\"Length of set_age is:\", len(set_age))"
   ]
  },
  {
   "cell_type": "code",
   "execution_count": 4,
   "metadata": {},
   "outputs": [
    {
     "name": "stdout",
     "output_type": "stream",
     "text": [
      "The length of the list age is greather than the set age\n"
     ]
    }
   ],
   "source": [
    "print(\"The length of the list age is greather than the set age\")"
   ]
  },
  {
   "cell_type": "code",
   "execution_count": 6,
   "metadata": {},
   "outputs": [],
   "source": [
    "#A string is a sequence of characters. It is represented by single quotes ('), \n",
    "# double quotes (\"), or backticks (`). Strings are immutable, which means they cannot be changed once created.\n",
    "\n",
    "# A list is an ordered collection of items. It is represented by square brackets ([]). \n",
    "# Lists are mutable, which means they can be changed after creation. Items in a list can be of different data types.\n",
    "\n",
    "# A tuple is an ordered collection of items similar to a list. However, \n",
    "# tuples are immutable, which means they cannot be changed once created. Items in a tuple can be of different data types."
   ]
  },
  {
   "cell_type": "code",
   "execution_count": 7,
   "metadata": {},
   "outputs": [
    {
     "name": "stdout",
     "output_type": "stream",
     "text": [
      "Uniques words {'a', 'am', 'inspire', 'people.', 'to', 'love', 'teach', 'I', 'teacher', 'and'}\n",
      "The number of unique words is  10\n"
     ]
    }
   ],
   "source": [
    "sentence = \"I am a teacher and I love to inspire and teach people.\"\n",
    "unique_words = set(sentence.split())\n",
    "print('Uniques words', unique_words)\n",
    "print(\"The number of unique words is \",len(unique_words))\n"
   ]
  }
 ],
 "metadata": {
  "kernelspec": {
   "display_name": "Python 3",
   "language": "python",
   "name": "python3"
  },
  "language_info": {
   "codemirror_mode": {
    "name": "ipython",
    "version": 3
   },
   "file_extension": ".py",
   "mimetype": "text/x-python",
   "name": "python",
   "nbconvert_exporter": "python",
   "pygments_lexer": "ipython3",
   "version": "3.9.12"
  }
 },
 "nbformat": 4,
 "nbformat_minor": 2
}
