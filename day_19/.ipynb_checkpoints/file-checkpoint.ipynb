{
 "cells": [
  {
   "cell_type": "markdown",
   "metadata": {},
   "source": [
    "Exercises: Level 1"
   ]
  },
  {
   "cell_type": "markdown",
   "metadata": {},
   "source": [
    "\n",
    "Write a function which count number of lines and number of words in a text. All the files are in the data the folder: a) Read obama_speech.txt file and count number of lines and words b) Read michelle_obama_speech.txt file and count number of lines and words c) Read donald_speech.txt file and count number of lines and words d) Read melina_trump_speech.txt file and count number of lines and words"
   ]
  },
  {
   "cell_type": "code",
   "execution_count": null,
   "metadata": {},
   "outputs": [],
   "source": [
    "from collections import Counter\n",
    "import json \n",
    "import os\n",
    "sentence = '''As you might imagine, for Barack, running for president is nothing compared to that first game of basketball with my brother, Craig.\n",
    "\n",
    "I can't tell you how much it means to have Craig and my mom here tonight. Like Craig, I can feel my dad looking down on us, just as I've felt his presence in every grace-filled moment of my life.\n",
    "\n",
    "At 6-foot-6, I've often felt like Craig was looking down on me too ... literally. But the truth is, both when we were kids and today, he wasn't looking down on me. He was watching over me.\n",
    "\n",
    "And he's been there for me every step of the way since that clear February day 19 months ago, when — with little more than our faith in each other and a hunger for change — we joined my husband, Barack Obama, on the improbable journey that's brought us to this moment.\n",
    "\n",
    "But each of us also comes here tonight by way of our own improbable journey.\n",
    "\n",
    "I come here tonight as a sister, blessed with a brother who is my mentor, my protector and my lifelong friend.\n",
    "\n",
    "I come here as a wife who loves my husband and believes he will be an extraordinary president.\n",
    "\n",
    "I come here as a mom whose girls are the heart of my heart and the center of my world — they're the first thing I think about when I wake up in the morning, and the last thing I think about when I go to bed at night. Their future — and all our children's future — is my stake in this election.\n",
    "\n",
    "And I come here as a daughter'''\n",
    "\n",
    "def count_words(path):\n",
    "    \n",
    "    with open(path) as f:\n",
    "        lines = f.read().splitlines()\n",
    "        \n",
    "        words  = 0\n",
    "        for row in lines:\n",
    "            count = Counter(row)\n",
    "            \n",
    "            words += count\n",
    "            \n",
    "    return f'The number of words in {path} file are :{words}'\n",
    "        \n",
    "    \n",
    "def count_lines(path):\n",
    "     with open(path) as f:\n",
    "         \n",
    "        lines = f.read().splitlines()\n",
    "         \n",
    "        lines_count = 0\n",
    "         \n",
    "        for row in lines:\n",
    "            lines_count += 1\n",
    "        \n",
    "        return f'The number of lines in {path} is {lines_count}'\n"
   ]
  },
  {
   "cell_type": "code",
   "execution_count": null,
   "metadata": {},
   "outputs": [],
   "source": []
  }
 ],
 "metadata": {
  "kernelspec": {
   "display_name": "Python 3 (ipykernel)",
   "language": "python",
   "name": "python3"
  },
  "language_info": {
   "codemirror_mode": {
    "name": "ipython",
    "version": 3
   },
   "file_extension": ".py",
   "mimetype": "text/x-python",
   "name": "python",
   "nbconvert_exporter": "python",
   "pygments_lexer": "ipython3",
   "version": "3.9.12"
  }
 },
 "nbformat": 4,
 "nbformat_minor": 2
}
